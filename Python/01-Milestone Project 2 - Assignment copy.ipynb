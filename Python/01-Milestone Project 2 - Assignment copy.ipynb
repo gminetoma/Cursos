{
 "cells": [
  {
   "cell_type": "markdown",
   "metadata": {},
   "source": [
    "___\n",
    "\n",
    "<a href='https://www.udemy.com/user/joseportilla/'><img src='../Pierian_Data_Logo.png'/></a>\n",
    "___\n",
    "<center><em>Content Copyright by Pierian Data</em></center>"
   ]
  },
  {
   "cell_type": "markdown",
   "metadata": {},
   "source": [
    "# Milestone Project 2 - Blackjack Game\n",
    "In this milestone project you will be creating a Complete BlackJack Card Game in Python.\n",
    "\n",
    "Here are the requirements:\n",
    "\n",
    "* You need to create a simple text-based [BlackJack](https://en.wikipedia.org/wiki/Blackjack) game\n",
    "* The game needs to have one player versus an automated dealer.\n",
    "* The player can stand or hit.\n",
    "* The player must be able to pick their betting amount.\n",
    "* You need to keep track of the player's total money.\n",
    "* You need to alert the player of wins, losses, or busts, etc...\n",
    "\n",
    "And most importantly:\n",
    "\n",
    "* **You must use OOP and classes in some portion of your game. You can not just use functions in your game. Use classes to help you define the Deck and the Player's hand. There are many right ways to do this, so explore it well!**\n",
    "\n",
    "\n",
    "Feel free to expand this game. Try including multiple players. Try adding in Double-Down and card splits! Remember to you are free to use any resources you want and as always:\n",
    "\n",
    "# HAVE FUN!"
   ]
  },
  {
   "cell_type": "code",
   "execution_count": 1,
   "metadata": {},
   "outputs": [],
   "source": [
    "import random\r\n",
    "from random import randint\r\n",
    "from datetime import datetime"
   ]
  },
  {
   "cell_type": "code",
   "execution_count": 2,
   "metadata": {},
   "outputs": [],
   "source": [
    "suits = (\"♥\", \"♦\", \"♠\", \"♣\")\r\n",
    "ranks = (\"2\", \"3\", \"4\", \"5\", \"6\", \"7\", \"8\", \"9\", \"10\", \"Jack\", \"Queen\", \"King\", \"Ace\")\r\n",
    "black_jack_rank_values = {\"2\":2, \"3\":3, \"4\":4, \"5\":5, \"6\":6, \"7\":7, \"8\":8, \"9\":9, \"10\":10, \"Jack\":10, \"Queen\":10, \"King\":10, \"Ace\":[1, 11]}"
   ]
  },
  {
   "cell_type": "code",
   "execution_count": 3,
   "metadata": {},
   "outputs": [],
   "source": [
    "def print_error_message(msg):\r\n",
    "    print(msg)\r\n",
    "\r\n",
    "def print_message(msg):\r\n",
    "    print(msg)\r\n",
    "\r\n",
    "def get_id():\r\n",
    "    return int(str(datetime.now()).replace(\" \",\"\").replace(\":\",\"\").replace(\"-\",\"\").replace(\".\",\"\"))*randint(0,100)"
   ]
  },
  {
   "cell_type": "code",
   "execution_count": 4,
   "metadata": {},
   "outputs": [],
   "source": [
    "class Bank:\r\n",
    "\r\n",
    "    class Bank_Acc:\r\n",
    "        def __init__(self):\r\n",
    "            self.id = get_id()\r\n",
    "            self.balance = 0\r\n",
    "\r\n",
    "    def __init__(self):\r\n",
    "        self.accounts = {}\r\n",
    "\r\n",
    "    def create_account(self, player_id):\r\n",
    "        self.accounts[player_id] = self.Bank_Acc() if self.accounts.get(player_id) == None else self.accounts.get(player_id)\r\n",
    "\r\n",
    "    def delete_account(self, player_id):\r\n",
    "        try:\r\n",
    "            self.accounts.pop(player_id)\r\n",
    "        except KeyError:\r\n",
    "            print_error_message(f\"Delete Account Error: Player ID ({player_id}) does not exist.\")\r\n",
    "\r\n",
    "    def get_player_account(self, player_id):\r\n",
    "        return self.accounts.get(player_id)\r\n",
    "\r\n",
    "    def balance_inquiry(self, player_id):\r\n",
    "        return self.get_player_account(player_id).balance\r\n",
    "    \r\n",
    "    def withdraw(self, player_id, amount):\r\n",
    "        if self.balance_inquiry(player_id) >= amount:\r\n",
    "            self.get_player_account(player_id).balance -= amount\r\n",
    "            return amount\r\n",
    "        else:\r\n",
    "            print_message(\"Amount too low to withdraw.\")\r\n",
    "            return 0\r\n",
    "\r\n",
    "    def deposit(self, player_id, amount):\r\n",
    "        amount = abs(amount)\r\n",
    "        self.get_player_account(player_id).balance += amount\r\n",
    "            "
   ]
  },
  {
   "cell_type": "code",
   "execution_count": 5,
   "metadata": {},
   "outputs": [],
   "source": [
    "class Player:\r\n",
    "    def __init__(self):\r\n",
    "        self.id = get_id()\r\n",
    "        self.name = \"\""
   ]
  },
  {
   "cell_type": "code",
   "execution_count": 6,
   "metadata": {},
   "outputs": [],
   "source": [
    "class Card:\r\n",
    "    def __init__(self, suit, rank, value):\r\n",
    "        self.id = get_id()\r\n",
    "        self.suit = suit\r\n",
    "        self.rank = rank\r\n",
    "        self.value = value\r\n",
    "        self.face_up = False\r\n",
    "\r\n",
    "    def __str__(self):\r\n",
    "        if self.face_up:\r\n",
    "            return \"___________\\n|         |\\n|{:<9}|\\n|{:<9}|\\n|         |\\n|{:>9}|\\n|{:>9}|\\n|_________|\".format(self.suit, self.rank, self.suit, self.rank)\r\n",
    "        else:\r\n",
    "            return \"___________\\n|         |\\n|         |\\n|  Black  |\\n|  Jack   |\\n|   🎴    |\\n|         |\\n|_________|\""
   ]
  },
  {
   "cell_type": "code",
   "execution_count": 7,
   "metadata": {},
   "outputs": [],
   "source": [
    "class Deck:\r\n",
    "    def __init__(self):\r\n",
    "        self.cards = []\r\n",
    "    \r\n",
    "    def add_card(self, card):\r\n",
    "        self.cards.append(card)\r\n",
    "    \r\n",
    "    def get_top_card(self):\r\n",
    "        return self.cards.pop(0)\r\n",
    "\r\n",
    "    def get_bottom_card(self):\r\n",
    "        return self.cards.pop(-1)\r\n",
    "\r\n",
    "    def get_random_card(self):\r\n",
    "        return self.cards.pop(randint(0, self.get_cards_quantity()))\r\n",
    "\r\n",
    "    def get_cards_quantity(self):\r\n",
    "        return len(self.cards)\r\n",
    "\r\n",
    "    def shuffle(self):\r\n",
    "        random.shuffle(self.cards)\r\n",
    "    \r\n",
    "    def new_black_jack_deck(self, deck_amount = 1):\r\n",
    "        for amount in range(0, deck_amount):\r\n",
    "            for suit in suits:\r\n",
    "                for rank in black_jack_rank_values.keys():\r\n",
    "                        self.add_card(Card(suit, rank, black_jack_rank_values[rank]))\r\n",
    "\r\n",
    "\r\n",
    "        "
   ]
  },
  {
   "cell_type": "code",
   "execution_count": 23,
   "metadata": {},
   "outputs": [],
   "source": [
    "class Table:\r\n",
    "\r\n",
    "    class Dealer:\r\n",
    "        def __init__(self):\r\n",
    "            self.id = get_id()\r\n",
    "\r\n",
    "    def __init__(self, bank, deck, players):\r\n",
    "        self.id = get_id()\r\n",
    "        self.bank = bank\r\n",
    "        self.deck = deck\r\n",
    "        self.players = players\r\n",
    "        self.dealer = self.Dealer()\r\n",
    "        self.hands = {self.dealer.id:[]}\r\n",
    "\r\n",
    "        for player_id in players:\r\n",
    "            self.hands[player_id] = []\r\n",
    "\r\n",
    "    def give_players_card(self, face_up = False):\r\n",
    "        for player in self.players.values():\r\n",
    "            card = self.deck.get_top_card()\r\n",
    "            self.hands[player.id].append(card)\r\n",
    "            if face_up:\r\n",
    "                self.flip_card(card)\r\n",
    "\r\n",
    "    def give_player_card(self, player_id, face_up = False):\r\n",
    "        card = self.deck.get_top_card()\r\n",
    "        self.hands[player_id].append(card)\r\n",
    "        if face_up:\r\n",
    "            self.flip_card(card)\r\n",
    "\r\n",
    "    def give_dealer_card(self, face_up = False):\r\n",
    "        card = self.deck.get_top_card()\r\n",
    "        self.hands[self.dealer.id].append(card)\r\n",
    "        if face_up:\r\n",
    "            self.flip_card(card)\r\n",
    "\r\n",
    "\r\n",
    "    def show_players_cards(self):\r\n",
    "        for player in self.players.values():\r\n",
    "            cards = \"\"\r\n",
    "            print_message(f\"Showing {player.name}'s cards...\")\r\n",
    "            for card in self.hands[player.id]:\r\n",
    "                cards += str(card)+\"\\n\"\r\n",
    "            print_message(cards)\r\n",
    "\r\n",
    "    def flip_card(self, card):\r\n",
    "        if card.face_up:\r\n",
    "            card.face_up = False\r\n",
    "        else:\r\n",
    "            card.face_up = True\r\n",
    "\r\n",
    "    def start_game(self):\r\n",
    "        print_message(\"Getting the BLACK JACK the deck...\")\r\n",
    "        self.deck.new_black_jack_deck()\r\n",
    "        print_message(\"Shuffling the deck...\")\r\n",
    "        self.deck.shuffle()\r\n",
    "        print_message(\"Distributing player cards...\")\r\n",
    "        self.give_players_card(True)\r\n",
    "        print_message(\"Displaying player cards...\")\r\n",
    "        self.show_players_cards()\r\n",
    "        print_message(\"Distributing dealer cards...\")\r\n",
    "\r\n",
    "        "
   ]
  },
  {
   "cell_type": "code",
   "execution_count": 24,
   "metadata": {},
   "outputs": [
    {
     "name": "stdout",
     "output_type": "stream",
     "text": [
      "Getting the BLACK JACK the deck...\n",
      "Shuffling the deck...\n",
      "Distributing player cards...\n",
      "Displaying player cards...\n",
      "Showing Gustavo's cards...\n",
      "___________\n",
      "|         |\n",
      "|♥        |\n",
      "|3        |\n",
      "|         |\n",
      "|        ♥|\n",
      "|        3|\n",
      "|_________|\n",
      "\n",
      "Showing Amanda's cards...\n",
      "___________\n",
      "|         |\n",
      "|♦        |\n",
      "|Jack     |\n",
      "|         |\n",
      "|        ♦|\n",
      "|     Jack|\n",
      "|_________|\n",
      "\n"
     ]
    }
   ],
   "source": [
    "player1 = Player()\r\n",
    "player2 = Player()\r\n",
    "player1.name = \"Gustavo\"\r\n",
    "player2.name = \"Amanda\"\r\n",
    "players = {player1.id:player1, player2.id:player2}\r\n",
    "table = Table(Bank(), Deck(), players)\r\n",
    "\r\n",
    "table.start_game()"
   ]
  },
  {
   "cell_type": "code",
   "execution_count": null,
   "metadata": {},
   "outputs": [],
   "source": [
    "player1 = Player()\r\n",
    "\r\n",
    "class Teste:\r\n",
    "    def __init__(self, player):\r\n",
    "        self.player = player\r\n",
    "\r\n",
    "teste = Teste(player1)\r\n",
    "\r\n",
    "teste.player.name = \"Gustavo\"\r\n",
    "print(teste.player.name)\r\n",
    "print(player1.name)"
   ]
  }
 ],
 "metadata": {
  "kernelspec": {
   "display_name": "Python 3.9.0 64-bit",
   "metadata": {
    "interpreter": {
     "hash": "0d008810b9c8467bcb3ca39aa2180e5b81b3a9acb136aab30d47954377cc5120"
    }
   },
   "name": "python3"
  },
  "language_info": {
   "codemirror_mode": {
    "name": "ipython",
    "version": 3
   },
   "file_extension": ".py",
   "mimetype": "text/x-python",
   "name": "python",
   "nbconvert_exporter": "python",
   "pygments_lexer": "ipython3",
   "version": "3.9.0"
  }
 },
 "nbformat": 4,
 "nbformat_minor": 1
}