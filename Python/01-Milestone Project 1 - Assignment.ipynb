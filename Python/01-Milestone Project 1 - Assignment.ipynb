{
 "metadata": {
  "language_info": {
   "codemirror_mode": {
    "name": "ipython",
    "version": 3
   },
   "file_extension": ".py",
   "mimetype": "text/x-python",
   "name": "python",
   "nbconvert_exporter": "python",
   "pygments_lexer": "ipython3",
   "version": "3.9.0-final"
  },
  "orig_nbformat": 2,
  "kernelspec": {
   "name": "python3",
   "display_name": "Python 3.9.0 64-bit",
   "metadata": {
    "interpreter": {
     "hash": "4f8763616d36299a7e67065bbff61b4594b946871d4c1b06c8acd4b8a7e0d76f"
    }
   }
  }
 },
 "nbformat": 4,
 "nbformat_minor": 2,
 "cells": [
  {
   "cell_type": "code",
   "execution_count": 1,
   "metadata": {},
   "outputs": [],
   "source": [
    "from IPython.display import clear_output"
   ]
  },
  {
   "cell_type": "code",
   "execution_count": 2,
   "metadata": {},
   "outputs": [],
   "source": [
    "def clear_display():\n",
    "    clear_output()"
   ]
  },
  {
   "cell_type": "code",
   "execution_count": 3,
   "metadata": {},
   "outputs": [],
   "source": [
    "def print_display(str):\n",
    "    print(str)"
   ]
  },
  {
   "cell_type": "code",
   "execution_count": 4,
   "metadata": {},
   "outputs": [],
   "source": [
    "def create_board():\n",
    "    return [\" \"]*9"
   ]
  },
  {
   "cell_type": "code",
   "execution_count": 5,
   "metadata": {},
   "outputs": [],
   "source": [
    "def create_players():\n",
    "    return [{\n",
    "        \"name\":\"player 1\",\n",
    "        \"piece\":\"X\",\n",
    "        \"turn\": True,\n",
    "        \"win\": False\n",
    "    },{\n",
    "        \"name\":\"player 2\",\n",
    "        \"piece\":\"O\",\n",
    "        \"turn\": False,\n",
    "        \"win\": False\n",
    "    }]"
   ]
  },
  {
   "cell_type": "code",
   "execution_count": 6,
   "metadata": {
    "tags": []
   },
   "outputs": [],
   "source": [
    "def print_board(board):\n",
    "    position = 6\n",
    "    while position >= 0:\n",
    "        line = \"\"\n",
    "        for index in range(0,3):\n",
    "            partition = \"|\" if index < 2 else \"\"\n",
    "            line += f\" {board[position]} {partition}\"\n",
    "            position += 1\n",
    "        position -= 6\n",
    "        print_display(line)"
   ]
  },
  {
   "cell_type": "code",
   "execution_count": 7,
   "metadata": {},
   "outputs": [],
   "source": [
    "def make_play(board, piece):\n",
    "    while True:\n",
    "        position = int(get_int_input(\"Choose a number (1 to 9): \",range(1,10)))\n",
    "        if board[position-1] == \"O\" or board[position-1] == \"X\":\n",
    "            print_display(\"Please choose another position.\")\n",
    "        else:\n",
    "            break\n",
    "    board[position-1] = piece\n",
    "    return board"
   ]
  },
  {
   "cell_type": "code",
   "execution_count": 8,
   "metadata": {},
   "outputs": [],
   "source": [
    "def check_win(board, piece):\n",
    "    lines = [0,3,6]\n",
    "    columns = [0,1,2]\n",
    "    for line in lines:\n",
    "        if  piece == board[line] == board[line+1] == board[line+2]:\n",
    "            return True\n",
    "    for column in columns:\n",
    "        if  piece == board[column] == board[column+3] == board[column+6]:\n",
    "            return True\n",
    "    if piece == board[0] == board[4] == board[8] or piece == board[2] == board[4] == board[6]:\n",
    "        return True\n",
    "    return False"
   ]
  },
  {
   "cell_type": "code",
   "execution_count": 9,
   "metadata": {},
   "outputs": [],
   "source": [
    "def get_str_input(msg, condition_list, is_case_sensitive = False):\n",
    "    if not is_case_sensitive:\n",
    "        for index in range(0, len(condition_list)):\n",
    "            condition_list[index] = condition_list[index].lower()\n",
    "    while True:\n",
    "        user_input = input(msg)\n",
    "        if not is_case_sensitive:\n",
    "            user_input = user_input.lower()\n",
    "        if user_input in condition_list:\n",
    "            break\n",
    "        else:\n",
    "            print_display(\"Wrong Input!\")\n",
    "    return user_input"
   ]
  },
  {
   "cell_type": "code",
   "execution_count": 10,
   "metadata": {},
   "outputs": [],
   "source": [
    "def get_int_input(msg, condition_list):\n",
    "    while True:\n",
    "        user_input = input(msg)\n",
    "        if user_input.isdigit() and int(user_input) in condition_list:\n",
    "            break\n",
    "        else:\n",
    "            print_display(\"Wrong Input!\")\n",
    "    return int(user_input)"
   ]
  },
  {
   "cell_type": "code",
   "execution_count": 11,
   "metadata": {},
   "outputs": [],
   "source": [
    "def choose_piece(players):\n",
    "    players[0][\"piece\"] = get_str_input(f\"{players[0]['name']} choose X or O: \", [\"X\",\"O\"]).upper()\n",
    "    players[1][\"piece\"] = \"X\" if players[0][\"piece\"] == \"O\" else \"O\"\n",
    "    return players"
   ]
  },
  {
   "cell_type": "code",
   "execution_count": 12,
   "metadata": {},
   "outputs": [],
   "source": [
    "def end_round(msg):\n",
    "    print_display(msg)\n",
    "    return True"
   ]
  },
  {
   "cell_type": "code",
   "execution_count": 13,
   "metadata": {},
   "outputs": [],
   "source": [
    "def replay():\n",
    "    return True if get_str_input(\"Do you wanna play again? (Y, N)\", [\"Y\",\"N\"]).lower() == \"y\" else False\n",
    "    "
   ]
  },
  {
   "cell_type": "code",
   "execution_count": 17,
   "metadata": {},
   "outputs": [],
   "source": [
    "def run_round():\n",
    "    board = create_board()\n",
    "    players = create_players()\n",
    "    players = choose_piece(players)\n",
    "    clear_display()\n",
    "    print_board(board)\n",
    "    end = False\n",
    "    num_plays = 0\n",
    "    while not end:\n",
    "        for player in players:\n",
    "            if player[\"turn\"]:\n",
    "                print_display(f\"{player['name']} is your turn! ({player['piece']}) 👍\")\n",
    "                board = make_play(board, player[\"piece\"])\n",
    "                player[\"turn\"] = False\n",
    "                clear_display()\n",
    "                print_board(board)\n",
    "            else:\n",
    "                player[\"turn\"] = True\n",
    "            player[\"win\"] = check_win(board, player[\"piece\"])\n",
    "            if player[\"win\"]:\n",
    "                break\n",
    "        num_plays += 1\n",
    "        if player[\"win\"]:\n",
    "            end = end_round(f\"{player['name']} ({player['piece']}) is the winner! 😊🏆\")\n",
    "            break\n",
    "        if num_plays == 9:\n",
    "            end = end_round(\"Draw! 😒\")\n",
    "            \n"
   ]
  },
  {
   "cell_type": "code",
   "execution_count": 18,
   "metadata": {},
   "outputs": [],
   "source": [
    "def run_game():\n",
    "    run = True\n",
    "    print_display(\"Welcome to Tic Tac Toe! 😜\")\n",
    "    while run:\n",
    "        run_round()\n",
    "        run = replay()\n",
    "    print_display(\"Thanks for Playing!😘❤\")"
   ]
  },
  {
   "cell_type": "code",
   "execution_count": 19,
   "metadata": {},
   "outputs": [
    {
     "output_type": "stream",
     "name": "stdout",
     "text": [
      " X |   |   \n",
      " O | X | O \n",
      " X | O | X \n",
      "player 1 (X) is the winner! 😊🏆\n",
      "Thanks for Playing!😘❤\n"
     ]
    }
   ],
   "source": [
    "run_game()"
   ]
  },
  {
   "cell_type": "code",
   "execution_count": null,
   "metadata": {},
   "outputs": [],
   "source": []
  }
 ]
}